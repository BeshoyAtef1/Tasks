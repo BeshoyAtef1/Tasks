{
 "cells": [
  {
   "cell_type": "code",
   "execution_count": 2,
   "id": "24a8a3f2",
   "metadata": {},
   "outputs": [
    {
     "name": "stdout",
     "output_type": "stream",
     "text": [
      "441.2798662441\n",
      "387.2481710527\n"
     ]
    }
   ],
   "source": [
    "from pyopenms import *\n",
    "import pyopenms as SQ\n",
    "sum=0\n",
    "seq=SQ.AASequence.fromString(\"VAKA\")\n",
    "for aa in seq:\n",
    "    sum+=aa.getMonoWeight()\n",
    "print(sum)\n",
    "seq=SQ.AASequence.fromString(\"VAKA\")\n",
    "total=seq.getMonoWeight()\n",
    "print(total)\n",
    "#mass of VAKA != mass of V + mass of A + mass of K + mass of A\n",
    "#387.2481710527!=441.2798662441"
   ]
  },
  {
   "cell_type": "code",
   "execution_count": null,
   "id": "b64dfa29",
   "metadata": {},
   "outputs": [],
   "source": []
  }
 ],
 "metadata": {
  "kernelspec": {
   "display_name": "Python 3 (ipykernel)",
   "language": "python",
   "name": "python3"
  },
  "language_info": {
   "codemirror_mode": {
    "name": "ipython",
    "version": 3
   },
   "file_extension": ".py",
   "mimetype": "text/x-python",
   "name": "python",
   "nbconvert_exporter": "python",
   "pygments_lexer": "ipython3",
   "version": "3.9.7"
  }
 },
 "nbformat": 4,
 "nbformat_minor": 5
}
